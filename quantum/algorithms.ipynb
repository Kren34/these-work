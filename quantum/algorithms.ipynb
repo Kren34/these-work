{
 "cells": [
  {
   "cell_type": "code",
   "execution_count": 1,
   "metadata": {},
   "outputs": [],
   "source": [
    "from qiskit import QuantumRegister, ClassicalRegister, QuantumCircuit\n",
    "from numpy import pi\n",
    "from qiskit_aer import Aer\n",
    "from qiskit.visualization import plot_histogram"
   ]
  },
  {
   "cell_type": "markdown",
   "metadata": {},
   "source": [
    "Deutsch Algorithm - 0 (IBM)(both balanced and constant)"
   ]
  },
  {
   "cell_type": "code",
   "execution_count": 2,
   "metadata": {},
   "outputs": [
    {
     "data": {
      "text/html": [
       "<pre style=\"word-wrap: normal;white-space: pre;background: #fff0;line-height: 1.1;font-family: &quot;Courier New&quot;,Courier,monospace\">               \n",
       "q_0: ──■───────\n",
       "     ┌─┴─┐┌───┐\n",
       "q_1: ┤ X ├┤ X ├\n",
       "     └───┘└───┘</pre>"
      ],
      "text/plain": [
       "               \n",
       "q_0: ──■───────\n",
       "     ┌─┴─┐┌───┐\n",
       "q_1: ┤ X ├┤ X ├\n",
       "     └───┘└───┘"
      ]
     },
     "metadata": {},
     "output_type": "display_data"
    }
   ],
   "source": [
    "from qiskit import QuantumCircuit\n",
    "\n",
    "def deutsch_function(case: int):\n",
    "    \"\"\"\n",
    "    Generate a valid Deutsch function as a `QuantumCircuit`.\n",
    "    \"\"\"\n",
    "    if case not in [1, 2, 3, 4]:\n",
    "        raise ValueError(\"`case` must be 1, 2, 3, or 4.\")\n",
    "\n",
    "    f = QuantumCircuit(2)\n",
    "    if case in [2, 3]:\n",
    "        f.cx(0, 1)\n",
    "    if case in [3, 4]:\n",
    "        f.x(1)\n",
    "    return f\n",
    "\n",
    "display(deutsch_function(3).draw())"
   ]
  },
  {
   "cell_type": "code",
   "execution_count": 3,
   "metadata": {},
   "outputs": [
    {
     "data": {
      "text/html": [
       "<pre style=\"word-wrap: normal;white-space: pre;background: #fff0;line-height: 1.1;font-family: &quot;Courier New&quot;,Courier,monospace\">     ┌───┐      ░            ░ ┌───┐┌─┐\n",
       "q_0: ┤ H ├──────░───■────────░─┤ H ├┤M├\n",
       "     ├───┤┌───┐ ░ ┌─┴─┐┌───┐ ░ └───┘└╥┘\n",
       "q_1: ┤ X ├┤ H ├─░─┤ X ├┤ X ├─░───────╫─\n",
       "     └───┘└───┘ ░ └───┘└───┘ ░       ║ \n",
       "c: 1/════════════════════════════════╩═\n",
       "                                     0 </pre>"
      ],
      "text/plain": [
       "     ┌───┐      ░            ░ ┌───┐┌─┐\n",
       "q_0: ┤ H ├──────░───■────────░─┤ H ├┤M├\n",
       "     ├───┤┌───┐ ░ ┌─┴─┐┌───┐ ░ └───┘└╥┘\n",
       "q_1: ┤ X ├┤ H ├─░─┤ X ├┤ X ├─░───────╫─\n",
       "     └───┘└───┘ ░ └───┘└───┘ ░       ║ \n",
       "c: 1/════════════════════════════════╩═\n",
       "                                     0 "
      ]
     },
     "metadata": {},
     "output_type": "display_data"
    }
   ],
   "source": [
    "def compile_circuit(function: QuantumCircuit):\n",
    "    \"\"\"\n",
    "    Compiles a circuit for use in Deutsch's algorithm.\n",
    "    \"\"\"\n",
    "    n = function.num_qubits - 1\n",
    "    qc = QuantumCircuit(n + 1, n)\n",
    "\n",
    "    qc.x(n)\n",
    "    qc.h(range(n + 1))\n",
    "\n",
    "    qc.barrier()\n",
    "    qc.compose(function, inplace=True)\n",
    "    qc.barrier()\n",
    "\n",
    "    qc.h(range(n))\n",
    "    qc.measure(range(n), range(n))\n",
    "\n",
    "    return qc\n",
    "\n",
    "display(compile_circuit(deutsch_function(3)).draw())"
   ]
  },
  {
   "cell_type": "code",
   "execution_count": 4,
   "metadata": {},
   "outputs": [
    {
     "data": {
      "text/html": [
       "<pre style=\"word-wrap: normal;white-space: pre;background: #fff0;line-height: 1.1;font-family: &quot;Courier New&quot;,Courier,monospace\">     ┌───┐      ░  ░ ┌───┐┌─┐\n",
       "q_0: ┤ H ├──────░──░─┤ H ├┤M├\n",
       "     ├───┤┌───┐ ░  ░ └───┘└╥┘\n",
       "q_1: ┤ X ├┤ H ├─░──░───────╫─\n",
       "     └───┘└───┘ ░  ░       ║ \n",
       "c: 1/══════════════════════╩═\n",
       "                           0 </pre>"
      ],
      "text/plain": [
       "     ┌───┐      ░  ░ ┌───┐┌─┐\n",
       "q_0: ┤ H ├──────░──░─┤ H ├┤M├\n",
       "     ├───┤┌───┐ ░  ░ └───┘└╥┘\n",
       "q_1: ┤ X ├┤ H ├─░──░───────╫─\n",
       "     └───┘└───┘ ░  ░       ║ \n",
       "c: 1/══════════════════════╩═\n",
       "                           0 "
      ]
     },
     "metadata": {},
     "output_type": "display_data"
    },
    {
     "name": "stdout",
     "output_type": "stream",
     "text": [
      "{'0': 1024}\n",
      "['0']\n"
     ]
    },
    {
     "data": {
      "text/plain": [
       "'constant'"
      ]
     },
     "metadata": {},
     "output_type": "display_data"
    },
    {
     "data": {
      "text/html": [
       "<pre style=\"word-wrap: normal;white-space: pre;background: #fff0;line-height: 1.1;font-family: &quot;Courier New&quot;,Courier,monospace\">     ┌───┐      ░       ░ ┌───┐┌─┐\n",
       "q_0: ┤ H ├──────░───■───░─┤ H ├┤M├\n",
       "     ├───┤┌───┐ ░ ┌─┴─┐ ░ └───┘└╥┘\n",
       "q_1: ┤ X ├┤ H ├─░─┤ X ├─░───────╫─\n",
       "     └───┘└───┘ ░ └───┘ ░       ║ \n",
       "c: 1/═══════════════════════════╩═\n",
       "                                0 </pre>"
      ],
      "text/plain": [
       "     ┌───┐      ░       ░ ┌───┐┌─┐\n",
       "q_0: ┤ H ├──────░───■───░─┤ H ├┤M├\n",
       "     ├───┤┌───┐ ░ ┌─┴─┐ ░ └───┘└╥┘\n",
       "q_1: ┤ X ├┤ H ├─░─┤ X ├─░───────╫─\n",
       "     └───┘└───┘ ░ └───┘ ░       ║ \n",
       "c: 1/═══════════════════════════╩═\n",
       "                                0 "
      ]
     },
     "metadata": {},
     "output_type": "display_data"
    },
    {
     "name": "stdout",
     "output_type": "stream",
     "text": [
      "{'1': 1024}\n",
      "['1']\n"
     ]
    },
    {
     "data": {
      "text/plain": [
       "'balanced'"
      ]
     },
     "metadata": {},
     "output_type": "display_data"
    },
    {
     "data": {
      "text/html": [
       "<pre style=\"word-wrap: normal;white-space: pre;background: #fff0;line-height: 1.1;font-family: &quot;Courier New&quot;,Courier,monospace\">     ┌───┐      ░            ░ ┌───┐┌─┐\n",
       "q_0: ┤ H ├──────░───■────────░─┤ H ├┤M├\n",
       "     ├───┤┌───┐ ░ ┌─┴─┐┌───┐ ░ └───┘└╥┘\n",
       "q_1: ┤ X ├┤ H ├─░─┤ X ├┤ X ├─░───────╫─\n",
       "     └───┘└───┘ ░ └───┘└───┘ ░       ║ \n",
       "c: 1/════════════════════════════════╩═\n",
       "                                     0 </pre>"
      ],
      "text/plain": [
       "     ┌───┐      ░            ░ ┌───┐┌─┐\n",
       "q_0: ┤ H ├──────░───■────────░─┤ H ├┤M├\n",
       "     ├───┤┌───┐ ░ ┌─┴─┐┌───┐ ░ └───┘└╥┘\n",
       "q_1: ┤ X ├┤ H ├─░─┤ X ├┤ X ├─░───────╫─\n",
       "     └───┘└───┘ ░ └───┘└───┘ ░       ║ \n",
       "c: 1/════════════════════════════════╩═\n",
       "                                     0 "
      ]
     },
     "metadata": {},
     "output_type": "display_data"
    },
    {
     "name": "stdout",
     "output_type": "stream",
     "text": [
      "{'1': 1024}\n",
      "['1']\n"
     ]
    },
    {
     "data": {
      "text/plain": [
       "'balanced'"
      ]
     },
     "metadata": {},
     "output_type": "display_data"
    },
    {
     "data": {
      "text/html": [
       "<pre style=\"word-wrap: normal;white-space: pre;background: #fff0;line-height: 1.1;font-family: &quot;Courier New&quot;,Courier,monospace\">     ┌───┐      ░       ░ ┌───┐┌─┐\n",
       "q_0: ┤ H ├──────░───────░─┤ H ├┤M├\n",
       "     ├───┤┌───┐ ░ ┌───┐ ░ └───┘└╥┘\n",
       "q_1: ┤ X ├┤ H ├─░─┤ X ├─░───────╫─\n",
       "     └───┘└───┘ ░ └───┘ ░       ║ \n",
       "c: 1/═══════════════════════════╩═\n",
       "                                0 </pre>"
      ],
      "text/plain": [
       "     ┌───┐      ░       ░ ┌───┐┌─┐\n",
       "q_0: ┤ H ├──────░───────░─┤ H ├┤M├\n",
       "     ├───┤┌───┐ ░ ┌───┐ ░ └───┘└╥┘\n",
       "q_1: ┤ X ├┤ H ├─░─┤ X ├─░───────╫─\n",
       "     └───┘└───┘ ░ └───┘ ░       ║ \n",
       "c: 1/═══════════════════════════╩═\n",
       "                                0 "
      ]
     },
     "metadata": {},
     "output_type": "display_data"
    },
    {
     "name": "stdout",
     "output_type": "stream",
     "text": [
      "{'0': 1024}\n",
      "['0']\n"
     ]
    },
    {
     "data": {
      "text/plain": [
       "'constant'"
      ]
     },
     "metadata": {},
     "output_type": "display_data"
    }
   ],
   "source": [
    "from qiskit_aer import AerSimulator\n",
    "\n",
    "def deutsch_algorithm(function: QuantumCircuit):\n",
    "    \"\"\"\n",
    "    Determine if a Deutsch function is constant or balanced.\n",
    "    \"\"\"\n",
    "    qc = compile_circuit(function)\n",
    "\n",
    "    result = AerSimulator().run(qc, shots=1, memory=True).result()\n",
    "    measurements = result.get_memory()\n",
    "    print(measurements)\n",
    "    if measurements[0] == \"0\":\n",
    "        return \"constant\"\n",
    "    return \"balanced\"\n",
    "\n",
    "for i in range(4):\n",
    "    f = compile_circuit(deutsch_function(i+1))\n",
    "    \n",
    "    simulator = Aer.get_backend('qasm_simulator')\n",
    "    result = simulator.run(f).result()\n",
    "    counts = result.get_counts(f)\n",
    "    \n",
    "    display(f.draw())\n",
    "    print(counts)\n",
    "    display(deutsch_algorithm(deutsch_function(i+1)))"
   ]
  },
  {
   "cell_type": "markdown",
   "metadata": {},
   "source": [
    "Deutsch Algorithm - 1 (youtube)(constant)"
   ]
  },
  {
   "cell_type": "code",
   "execution_count": 5,
   "metadata": {},
   "outputs": [
    {
     "name": "stdout",
     "output_type": "stream",
     "text": [
      "     ┌───┐┌───┐ ░ ┌───┐ ░         \n",
      "q_0: ┤ X ├┤ H ├─░─┤ I ├─░─────────\n",
      "     ├───┤├───┤ ░ ├───┤ ░ ┌───┐┌─┐\n",
      "q_1: ┤ I ├┤ H ├─░─┤ I ├─░─┤ H ├┤M├\n",
      "     └───┘└───┘ ░ └───┘ ░ └───┘└╥┘\n",
      "c: 1/═══════════════════════════╩═\n",
      "                                0 \n",
      "Measurement result: {'0': 1024}\n",
      "Function is constant\n"
     ]
    }
   ],
   "source": [
    "qreg_q = QuantumRegister(2, 'q')\n",
    "creg_c = ClassicalRegister(1, 'c')\n",
    "circuit = QuantumCircuit(qreg_q, creg_c)\n",
    "\n",
    "circuit.id(qreg_q[1])\n",
    "circuit.x(qreg_q[0])\n",
    "circuit.h(qreg_q[0])\n",
    "circuit.h(qreg_q[1])\n",
    "circuit.barrier(qreg_q[1])\n",
    "circuit.barrier(qreg_q[0])\n",
    "circuit.id(qreg_q[1])\n",
    "circuit.id(qreg_q[0])\n",
    "circuit.barrier(qreg_q[0])\n",
    "circuit.barrier(qreg_q[1])\n",
    "circuit.h(qreg_q[1])\n",
    "circuit.measure(qreg_q[1], creg_c[0])\n",
    "\n",
    "simulator = Aer.get_backend('qasm_simulator')\n",
    "result = simulator.run(circuit).result()\n",
    "counts = result.get_counts(circuit)\n",
    "\n",
    "is_constant = len(counts) == 1  # If there is only one measurement outcome, it's constant\n",
    "result_type = \"constant\" if is_constant else \"balanced\"\n",
    "\n",
    "print(circuit)\n",
    "print(\"Measurement result:\", counts)\n",
    "print(\"Function is\", result_type)"
   ]
  },
  {
   "cell_type": "code",
   "execution_count": 6,
   "metadata": {},
   "outputs": [
    {
     "data": {
      "image/png": "[encoded data removed]",
      "text/plain": [
       "<Figure size 640x480 with 1 Axes>"
      ]
     },
     "execution_count": 6,
     "metadata": {},
     "output_type": "execute_result"
    }
   ],
   "source": [
    "plot_histogram(counts)"
   ]
  },
  {
   "cell_type": "markdown",
   "metadata": {},
   "source": [
    "Deutsch Algorithm - 2 (balanced)(from medium)"
   ]
  },
  {
   "cell_type": "code",
   "execution_count": 18,
   "metadata": {},
   "outputs": [
    {
     "name": "stdout",
     "output_type": "stream",
     "text": [
      "     ┌───┐               ┌───┐┌─┐\n",
      "q_0: ┤ H ├────────────■──┤ H ├┤M├\n",
      "     ├───┤┌───┐┌───┐┌─┴─┐└───┘└╥┘\n",
      "q_1: ┤ H ├┤ X ├┤ H ├┤ X ├──────╫─\n",
      "     └───┘└───┘└───┘└───┘      ║ \n",
      "c: 1/══════════════════════════╩═\n",
      "                               0 \n",
      "Measurement result: {'1': 504, '0': 520}\n",
      "Function is balanced\n"
     ]
    }
   ],
   "source": [
    "qreg_q = QuantumRegister(2, 'q')\n",
    "creg_c = ClassicalRegister(1, 'c')\n",
    "circuit = QuantumCircuit(qreg_q, creg_c)\n",
    "\n",
    "circuit.h(qreg_q[0])\n",
    "circuit.h(qreg_q[1])\n",
    "circuit.x(qreg_q[1])\n",
    "circuit.h(qreg_q[1])\n",
    "circuit.cx(qreg_q[0], qreg_q[1])\n",
    "circuit.h(qreg_q[0])\n",
    "circuit.measure(qreg_q[0], creg_c[0])\n",
    "\n",
    "simulator = Aer.get_backend('qasm_simulator')\n",
    "result = simulator.run(circuit).result()\n",
    "counts = result.get_counts(circuit)\n",
    "\n",
    "is_constant = len(counts) == 1  # If there is only one measurement outcome, it's constant\n",
    "result_type = \"constant\" if is_constant else \"balanced\"\n",
    "\n",
    "print(circuit)\n",
    "print(\"Measurement result:\", counts)\n",
    "print(\"Function is\", result_type)"
   ]
  },
  {
   "cell_type": "code",
   "execution_count": 8,
   "metadata": {},
   "outputs": [
    {
     "data": {
      "image/png": "[encoded data removed]",
      "text/plain": [
       "<Figure size 640x480 with 1 Axes>"
      ]
     },
     "execution_count": 8,
     "metadata": {},
     "output_type": "execute_result"
    }
   ],
   "source": [
    "plot_histogram(counts)"
   ]
  },
  {
   "cell_type": "markdown",
   "metadata": {},
   "source": [
    "Deutsch Algorithm - 2 (constant)(from medium)"
   ]
  },
  {
   "cell_type": "code",
   "execution_count": 9,
   "metadata": {},
   "outputs": [
    {
     "name": "stdout",
     "output_type": "stream",
     "text": [
      "     ┌───┐┌───┐  ░  ┌─┐\n",
      "q_0: ┤ H ├┤ H ├──░──┤M├\n",
      "     ├───┤├───┤┌───┐└╥┘\n",
      "q_1: ┤ H ├┤ X ├┤ H ├─╫─\n",
      "     └───┘└───┘└───┘ ║ \n",
      "c: 1/════════════════╩═\n",
      "                     0 \n",
      "Measurement result: {'0': 1024}\n",
      "Function is constant\n"
     ]
    }
   ],
   "source": [
    "qreg_q = QuantumRegister(2, 'q')\n",
    "creg_c = ClassicalRegister(1, 'c')\n",
    "circuit = QuantumCircuit(qreg_q, creg_c)\n",
    "\n",
    "circuit.h(qreg_q[0])\n",
    "circuit.h(qreg_q[1])\n",
    "circuit.h(qreg_q[0])\n",
    "circuit.x(qreg_q[1])\n",
    "circuit.h(qreg_q[1])\n",
    "circuit.barrier(qreg_q[0])\n",
    "circuit.measure(qreg_q[0], creg_c[0])\n",
    "\n",
    "simulator = Aer.get_backend('qasm_simulator')\n",
    "result = simulator.run(circuit).result()\n",
    "counts = result.get_counts(circuit)\n",
    "\n",
    "is_constant = len(counts) == 1  # If there is only one measurement outcome, it's constant\n",
    "result_type = \"constant\" if is_constant else \"balanced\"\n",
    "\n",
    "print(circuit)\n",
    "print(\"Measurement result:\", counts)\n",
    "print(\"Function is\", result_type)"
   ]
  },
  {
   "cell_type": "code",
   "execution_count": 10,
   "metadata": {},
   "outputs": [
    {
     "data": {
      "image/png": "[encoded data removed]",
      "text/plain": [
       "<Figure size 640x480 with 1 Axes>"
      ]
     },
     "execution_count": 10,
     "metadata": {},
     "output_type": "execute_result"
    }
   ],
   "source": [
    "plot_histogram(counts)"
   ]
  },
  {
   "cell_type": "markdown",
   "metadata": {},
   "source": [
    "Deutsch Algorithm - 3 (gemini)(balanced)"
   ]
  },
  {
   "cell_type": "code",
   "execution_count": 11,
   "metadata": {},
   "outputs": [
    {
     "name": "stdout",
     "output_type": "stream",
     "text": [
      "     ┌───┐┌───┐     ┌───┐┌─┐\n",
      "q_0: ┤ X ├┤ H ├──■──┤ H ├┤M├\n",
      "     └───┘└───┘┌─┴─┐└───┘└╥┘\n",
      "q_1: ──────────┤ X ├──────╫─\n",
      "               └───┘      ║ \n",
      "c: 1/═════════════════════╩═\n",
      "                          0 \n",
      "Measurement result: {'0': 505, '1': 519}\n",
      "Function is balanced\n"
     ]
    }
   ],
   "source": [
    "qreg_q = QuantumRegister(2, 'q')\n",
    "creg_c = ClassicalRegister(1, 'c')\n",
    "circuit = QuantumCircuit(qreg_q, creg_c)\n",
    "\n",
    "circuit.x(qreg_q[0])\n",
    "circuit.h(qreg_q[0])\n",
    "circuit.cx(qreg_q[0], qreg_q[1])\n",
    "circuit.h(qreg_q[0])\n",
    "circuit.measure(qreg_q[0], creg_c[0])\n",
    "\n",
    "simulator = Aer.get_backend('qasm_simulator')\n",
    "result = simulator.run(circuit).result()\n",
    "counts = result.get_counts(circuit)\n",
    "\n",
    "is_constant = len(counts) == 1  # If there is only one measurement outcome, it's constant\n",
    "result_type = \"constant\" if is_constant else \"balanced\"\n",
    "\n",
    "print(circuit)\n",
    "print(\"Measurement result:\", counts)\n",
    "print(\"Function is\", result_type)"
   ]
  },
  {
   "cell_type": "code",
   "execution_count": 12,
   "metadata": {},
   "outputs": [
    {
     "data": {
      "image/png": "[encoded data removed]",
      "text/plain": [
       "<Figure size 640x480 with 1 Axes>"
      ]
     },
     "execution_count": 12,
     "metadata": {},
     "output_type": "execute_result"
    }
   ],
   "source": [
    "plot_histogram(counts)"
   ]
  },
  {
   "cell_type": "markdown",
   "metadata": {},
   "source": [
    "Deutsch Algorithm - 4 (ChatGPT)(constant)"
   ]
  },
  {
   "cell_type": "code",
   "execution_count": 13,
   "metadata": {},
   "outputs": [
    {
     "name": "stdout",
     "output_type": "stream",
     "text": [
      "     ┌───┐  ░   ░ ┌───┐ ░ ┌───┐┌─┐\n",
      "q_0: ┤ H ├──░───░─┤ I ├─░─┤ H ├┤M├\n",
      "     ├───┤┌───┐ ░ ├───┤ ░ └───┘└╥┘\n",
      "q_1: ┤ X ├┤ H ├─░─┤ I ├─░───────╫─\n",
      "     └───┘└───┘ ░ └───┘ ░       ║ \n",
      "c: 1/═══════════════════════════╩═\n",
      "                                0 \n",
      "Measurement result: {'0': 1024}\n",
      "Function is constant\n"
     ]
    }
   ],
   "source": [
    "qreg_q = QuantumRegister(2, 'q')\n",
    "creg_c = ClassicalRegister(1, 'c')\n",
    "circuit = QuantumCircuit(qreg_q, creg_c)\n",
    "\n",
    "circuit.h(qreg_q[0])\n",
    "circuit.x(qreg_q[1])\n",
    "circuit.h(qreg_q[1])\n",
    "circuit.barrier(qreg_q[0])\n",
    "circuit.barrier(qreg_q[1])\n",
    "circuit.barrier(qreg_q[0])\n",
    "circuit.id(qreg_q[0])\n",
    "circuit.id(qreg_q[1])\n",
    "circuit.barrier(qreg_q[1])\n",
    "circuit.barrier(qreg_q[0])\n",
    "circuit.h(qreg_q[0])\n",
    "circuit.measure(qreg_q[0], creg_c[0])\n",
    "\n",
    "simulator = Aer.get_backend('qasm_simulator')\n",
    "result = simulator.run(circuit).result()\n",
    "counts = result.get_counts(circuit)\n",
    "\n",
    "is_constant = len(counts) == 1  # If there is only one measurement outcome, it's constant\n",
    "result_type = \"constant\" if is_constant else \"balanced\"\n",
    "\n",
    "print(circuit)\n",
    "print(\"Measurement result:\", counts)\n",
    "print(\"Function is\", result_type)"
   ]
  },
  {
   "cell_type": "code",
   "execution_count": 14,
   "metadata": {},
   "outputs": [
    {
     "data": {
      "image/png": "[encoded data removed]",
      "text/plain": [
       "<Figure size 640x480 with 1 Axes>"
      ]
     },
     "execution_count": 14,
     "metadata": {},
     "output_type": "execute_result"
    }
   ],
   "source": [
    "plot_histogram(counts)"
   ]
  },
  {
   "cell_type": "markdown",
   "metadata": {},
   "source": [
    "Deutsch Algorithm - 4 (ChatGPT)(balanced(not actually))"
   ]
  },
  {
   "cell_type": "code",
   "execution_count": 15,
   "metadata": {},
   "outputs": [
    {
     "name": "stdout",
     "output_type": "stream",
     "text": [
      "     ┌───┐  ░   ░       ░ ┌───┐┌─┐\n",
      "q_0: ┤ H ├──░───░───■───░─┤ H ├┤M├\n",
      "     ├───┤┌───┐ ░ ┌─┴─┐ ░ └───┘└╥┘\n",
      "q_1: ┤ X ├┤ H ├─░─┤ X ├─░───────╫─\n",
      "     └───┘└───┘ ░ └───┘ ░       ║ \n",
      "c: 1/═══════════════════════════╩═\n",
      "                                0 \n",
      "Measurement result: {'1': 1024}\n",
      "Function is constant\n"
     ]
    }
   ],
   "source": [
    "qreg_q = QuantumRegister(2, 'q')\n",
    "creg_c = ClassicalRegister(1, 'c')\n",
    "circuit = QuantumCircuit(qreg_q, creg_c)\n",
    "\n",
    "circuit.h(qreg_q[0])\n",
    "circuit.x(qreg_q[1])\n",
    "circuit.h(qreg_q[1])\n",
    "circuit.barrier(qreg_q[0])\n",
    "circuit.barrier(qreg_q[0])\n",
    "circuit.barrier(qreg_q[1])\n",
    "circuit.cx(qreg_q[0], qreg_q[1])\n",
    "circuit.barrier(qreg_q[0])\n",
    "circuit.barrier(qreg_q[1])\n",
    "circuit.h(qreg_q[0])\n",
    "circuit.measure(qreg_q[0], creg_c[0])\n",
    "\n",
    "simulator = Aer.get_backend('qasm_simulator')\n",
    "result = simulator.run(circuit).result()\n",
    "counts = result.get_counts(circuit)\n",
    "\n",
    "is_constant = len(counts) == 1  # If there is only one measurement outcome, it's constant\n",
    "result_type = \"constant\" if is_constant else \"balanced\"\n",
    "\n",
    "print(circuit)\n",
    "print(\"Measurement result:\", counts)\n",
    "print(\"Function is\", result_type)"
   ]
  },
  {
   "cell_type": "code",
   "execution_count": 16,
   "metadata": {},
   "outputs": [
    {
     "data": {
      "image/png": "[encoded data removed]",
      "text/plain": [
       "<Figure size 640x480 with 1 Axes>"
      ]
     },
     "execution_count": 16,
     "metadata": {},
     "output_type": "execute_result"
    }
   ],
   "source": [
    "plot_histogram(counts)"
   ]
  }
 ],
 "metadata": {
  "kernelspec": {
   "display_name": "Python 3",
   "language": "python",
   "name": "python3"
  },
  "language_info": {
   "codemirror_mode": {
    "name": "ipython",
    "version": 3
   },
   "file_extension": ".py",
   "mimetype": "text/x-python",
   "name": "python",
   "nbconvert_exporter": "python",
   "pygments_lexer": "ipython3",
   "version": "3.12.3"
  }
 },
 "nbformat": 4,
 "nbformat_minor": 2
}
